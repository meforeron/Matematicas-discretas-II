{
  "nbformat": 4,
  "nbformat_minor": 0,
  "metadata": {
    "colab": {
      "provenance": [],
      "authorship_tag": "ABX9TyNAQETetjnXnv0DC8mKor8P",
      "include_colab_link": true
    },
    "kernelspec": {
      "name": "python3",
      "display_name": "Python 3"
    },
    "language_info": {
      "name": "python"
    }
  },
  "cells": [
    {
      "cell_type": "markdown",
      "metadata": {
        "id": "view-in-github",
        "colab_type": "text"
      },
      "source": [
        "<a href=\"https://colab.research.google.com/github/melissafn/Matematicas-discretas-II/blob/main/Grupos/Ejercicio.ipynb\" target=\"_parent\"><img src=\"https://colab.research.google.com/assets/colab-badge.svg\" alt=\"Open In Colab\"/></a>"
      ]
    },
    {
      "cell_type": "markdown",
      "source": [
        "# Identificación de grupos a través de tablas\n",
        "Un cuadrado latino es una matriz de n×n elementos en la que cada casilla está ocupada por uno de los n símbolos, de tal modo que cada uno de ellos aparece exactamente una vez en cada columna y en cada fila.\n",
        "El siguiente código toma como entrada los valores de una tabla de multiplicacion y determina si cumple con los axiomas de una estructura de grupo, y a su vez un cuadrado latino.\n",
        "\n",
        "1. Para verificar si existe un elemento que actua como la identidad o neutro se \n",
        "recorre la tabla con un ciclo for para encontrar una fila cuyos valores sean iguales a los correspondientes indices.\n",
        "\n",
        "2. Para comprobar que la operacion es cerrada se recorre la lista de modo tal que se verifique que en cada fila y columna los valores estan dentro del rango de indices validos.\n",
        "\n",
        "3. Para la propiedad asociativa se toman 3 elementos y se comprueba que el valor en (i,j) y el valor en (j,k) son iguales al valor en (i,k). Si no se cumple lo anterior para cualesquiera 3 elementos en la tabla la funcion devuelve False.\n",
        "\n",
        "4. Para revisar que cada elemento tiene un inverso se itera sobre cada valor de la tabla, si el valor en (i,j) es igual a 1, se procede a comprobar que i y j tienen inversos buscando un elemento k tal que i*k = k*i = Id.\n"
      ],
      "metadata": {
        "id": "eT3j3kRrGty3"
      }
    },
    {
      "cell_type": "code",
      "execution_count": 21,
      "metadata": {
        "id": "XA63j4krC692"
      },
      "outputs": [],
      "source": [
        "def check_group(tabla):\n",
        "    x = len(tabla)\n",
        "\n",
        "    # cerradura\n",
        "    for i in range(x):\n",
        "        for j in range(x):\n",
        "            if tabla[i][j] not in range(x):\n",
        "                return False\n",
        "\n",
        "    # elemento neutro\n",
        "    for i in range(x):\n",
        "        identidad = True\n",
        "        for j in range(x):\n",
        "            if tabla[i][j] != j or tabla[j][i] != j:\n",
        "                identidad = False\n",
        "                break\n",
        "        if identidad:\n",
        "            break\n",
        "    else:\n",
        "        return False\n",
        "    \n",
        "    # inverso para cada elemento\n",
        "    for i in range(x):\n",
        "        inverso = False\n",
        "        for j in range(x):\n",
        "            if tabla[i][j] == identidad and tabla[j][i] == identidad:\n",
        "                inverso = True\n",
        "                break\n",
        "        if not inverso:\n",
        "            return False\n",
        "\n",
        "    # asociatividad\n",
        "    for i in range(x):\n",
        "        for j in range(x):\n",
        "            for k in range(x):\n",
        "                if tabla[tabla[i][j]][k] != tabla[i][tabla[j][k]]:\n",
        "                    return False\n",
        "    return True"
      ]
    },
    {
      "cell_type": "markdown",
      "source": [
        "**Ejemplo:**"
      ],
      "metadata": {
        "id": "zP1hXZiKG5VV"
      }
    },
    {
      "cell_type": "code",
      "source": [
        "check_group([\n",
        "    [0, 1, 2, 3, 4],\n",
        "    [1, 2, 3, 4, 0],\n",
        "    [2, 3, 4, 0, 1],\n",
        "    [3, 4, 0, 1, 2],\n",
        "    [4, 0, 1, 2, 3]\n",
        "])"
      ],
      "metadata": {
        "colab": {
          "base_uri": "https://localhost:8080/"
        },
        "id": "cqOSqIpGDLAi",
        "outputId": "239a6696-6a27-4631-8f63-caa67fea17d1"
      },
      "execution_count": 29,
      "outputs": [
        {
          "output_type": "execute_result",
          "data": {
            "text/plain": [
              "True"
            ]
          },
          "metadata": {},
          "execution_count": 29
        }
      ]
    },
    {
      "cell_type": "code",
      "source": [
        "check_group( [\n",
        "    [1, 1, 2],\n",
        "    [1, 2, 0],\n",
        "    [2, 0, 1]\n",
        "])"
      ],
      "metadata": {
        "colab": {
          "base_uri": "https://localhost:8080/"
        },
        "id": "Qm6IP__sg7Mm",
        "outputId": "4482663d-7642-4ebb-e3be-ff2eec0f71d6"
      },
      "execution_count": 31,
      "outputs": [
        {
          "output_type": "execute_result",
          "data": {
            "text/plain": [
              "False"
            ]
          },
          "metadata": {},
          "execution_count": 31
        }
      ]
    }
  ]
}