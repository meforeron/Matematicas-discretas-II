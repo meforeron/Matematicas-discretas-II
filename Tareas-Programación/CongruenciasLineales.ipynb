{
  "nbformat": 4,
  "nbformat_minor": 0,
  "metadata": {
    "colab": {
      "provenance": [],
      "authorship_tag": "ABX9TyMV+lCJgzPXB7SPg0JbRClh",
      "include_colab_link": true
    },
    "kernelspec": {
      "name": "python3",
      "display_name": "Python 3"
    },
    "language_info": {
      "name": "python"
    }
  },
  "cells": [
    {
      "cell_type": "markdown",
      "metadata": {
        "id": "view-in-github",
        "colab_type": "text"
      },
      "source": [
        "<a href=\"https://colab.research.google.com/github/melissafn/Matematicas-discretas-II/blob/main/Tareas-Programaci%C3%B3n/CongruenciasLineales.ipynb\" target=\"_parent\"><img src=\"https://colab.research.google.com/assets/colab-badge.svg\" alt=\"Open In Colab\"/></a>"
      ]
    },
    {
      "cell_type": "markdown",
      "source": [
        "# Resolución de congruencias lineales\n",
        "Una congruencia de la forma ax ≡ b(mod m) donde x es un entero desconocido se llama congruencia lineal. Si a y b dos números enteros cualesquiera y n es un número entero positivo, entonces la congruencia tiene una solución para x si y solo si b es divisible por el máximo común divisor de a y n."
      ],
      "metadata": {
        "id": "ib6Elt3P4ipY"
      }
    },
    {
      "cell_type": "code",
      "execution_count": 5,
      "metadata": {
        "id": "Dp-UNrAz4hSN"
      },
      "outputs": [],
      "source": [
        "def EuclidesExtendido(a, b):\n",
        "\n",
        "\tif a == 0 :\n",
        "\t\treturn b, 0, 1\n",
        "\t\t\n",
        "\tmcd, x1, y1 = EuclidesExtendido(b % a, a)\n",
        "\tx = y1 - (b // a) * x1\n",
        "\ty = x1\n",
        "\t\n",
        "\treturn mcd, x, y\n",
        "\t\n",
        "def Congruencia(A, B, N):\n",
        "\t\n",
        "\tA = A % N\n",
        "\tB = B % N\n",
        "\tu = 0\n",
        "\tv = 0\n",
        "\td, u, v = EuclidesExtendido(A, N)\n",
        "\t\n",
        "\t# Si no existe solucion\n",
        "\tif (B % d != 0):\n",
        "\t\tprint(-1)\n",
        "\t\treturn\n",
        "\t\n",
        "\tx0 = (u * (B // d)) % N\n",
        "\tif (x0 < 0):\n",
        "\t\tx0 += N\n",
        "\t\n",
        "\t# Todos los valores que son solución\n",
        "\tfor i in range(d):\n",
        "\t\tprint((x0 + i * (N // d)) % N, end = \" \")"
      ]
    },
    {
      "cell_type": "markdown",
      "source": [
        "**Ejemplo:**"
      ],
      "metadata": {
        "id": "Y1ghVZy3wLz0"
      }
    },
    {
      "cell_type": "code",
      "source": [
        "Congruencia(9, 12, 15)"
      ],
      "metadata": {
        "colab": {
          "base_uri": "https://localhost:8080/"
        },
        "id": "o3ZU6fqdwKKq",
        "outputId": "d278557c-9c93-4d09-98a6-59b6d7fe140c"
      },
      "execution_count": 8,
      "outputs": [
        {
          "output_type": "stream",
          "name": "stdout",
          "text": [
            "8 13 3 "
          ]
        }
      ]
    }
  ]
}