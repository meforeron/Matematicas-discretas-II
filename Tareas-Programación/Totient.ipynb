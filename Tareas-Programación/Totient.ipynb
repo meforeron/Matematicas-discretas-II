{
  "nbformat": 4,
  "nbformat_minor": 0,
  "metadata": {
    "colab": {
      "provenance": [],
      "authorship_tag": "ABX9TyMqF+c4hazGFcChAV5DMK45",
      "include_colab_link": true
    },
    "kernelspec": {
      "name": "python3",
      "display_name": "Python 3"
    },
    "language_info": {
      "name": "python"
    }
  },
  "cells": [
    {
      "cell_type": "markdown",
      "metadata": {
        "id": "view-in-github",
        "colab_type": "text"
      },
      "source": [
        "<a href=\"https://colab.research.google.com/github/melissafn/Matematicas-discretas-II/blob/main/Tareas-Programaci%C3%B3n/Totient.ipynb\" target=\"_parent\"><img src=\"https://colab.research.google.com/assets/colab-badge.svg\" alt=\"Open In Colab\"/></a>"
      ]
    },
    {
      "cell_type": "markdown",
      "source": [
        "#Funcion totiente de euler\n",
        "Si n es un número entero positivo, entonces φ(n) se define como:\n",
        "\n",
        "$\\phi \\left ( n \\right )= \\mid \\left \\{ m \\in \\mathbb{N}\\mid m\\leq n\\wedge mcd\\left ( m,n \\right )=1  \\right \\}\\mid $\n",
        "\n",
        "Por lo tanto, para calcular phi(n), debemos contar el número de enteros positivos menores o iguales a n que son relativamente primos a n. Esto se puede hacer de forma exhaustiva, comprobando uno por uno si cada número es relativamente primo a n, o se puede utilizar un algoritmo de factorización para obtener los factores primos de n y utilizarlos para calcular phi usando la fórmula directa de Euler:\n",
        "\n",
        "$\\phi \\left ( p^{a} \\right )= p^{a}-p^{a-1}$\n"
      ],
      "metadata": {
        "id": "gFGerhn2AdxG"
      }
    },
    {
      "cell_type": "code",
      "execution_count": 11,
      "metadata": {
        "id": "wX4bGj1zAW5Y"
      },
      "outputs": [],
      "source": [
        "import math\n",
        "import timeit\n",
        "def phi (numero):\n",
        "  \"\"\"\n",
        "  Calcula la funcion phi de euler contando el numero de enteros positivos\n",
        "  menores a \"numero\" que son coprimos con este.\n",
        "\n",
        "  Entrada:\n",
        "  numero: numero al cual se le quiere calcular phi.\n",
        "\n",
        "  Salida:\n",
        "  Valor de phi de euler de \"numero\".\n",
        "\n",
        "  \"\"\"\n",
        "  count = 0\n",
        "  for i in range(1,numero):\n",
        "    if math.gcd(i, numero) == 1:\n",
        "      count += 1\n",
        "  return count"
      ]
    },
    {
      "cell_type": "markdown",
      "source": [
        "**Ejemplo:**"
      ],
      "metadata": {
        "id": "zbLZfnecHG29"
      }
    },
    {
      "cell_type": "code",
      "source": [
        "numero = 215042554\n",
        "t = timeit.timeit('phi({})'.format(numero), setup='from __main__ import phi', number=1)\n",
        "print(phi(numero))\n",
        "print('Tiempo de ejecución: {} segundos'.format(t))"
      ],
      "metadata": {
        "id": "sQHKvO5EFzAe",
        "colab": {
          "base_uri": "https://localhost:8080/"
        },
        "outputId": "103aa392-20d4-4fe2-a8ab-dcd10f86a3c3"
      },
      "execution_count": 12,
      "outputs": [
        {
          "output_type": "stream",
          "name": "stdout",
          "text": [
            "101094912\n",
            "Tiempo de ejecución: 96.00740886299991 segundos\n"
          ]
        }
      ]
    },
    {
      "cell_type": "code",
      "source": [
        "import functools\n",
        "def euler(numero):\n",
        "  \"\"\"\n",
        "  Calcula la funcion phi usando el teorema de euler-fermat:\n",
        "  φ(p^a) = p^a - p^a-1\n",
        "\n",
        "  Entrada:\n",
        "  numero: numero al cual se le quiere calcular phi\n",
        "\n",
        "  Salida:\n",
        "  Valor de phi de euler de \"numero\".\n",
        "\n",
        "  \"\"\"\n",
        "  #Descomposición en factores primos\n",
        "  factores = []\n",
        "  divisor = 2\n",
        "  while divisor <= numero:\n",
        "    potencia = 0\n",
        "    while numero % divisor == 0:\n",
        "      numero /= divisor\n",
        "      potencia += 1\n",
        "    if potencia > 0:\n",
        "      factores.append((divisor, potencia))\n",
        "    divisor += 1\n",
        "  #Calcular phi usando el teorema de Euler\n",
        "  phi = [(factor**potencia-factor**(potencia-1)) for factor, potencia in factores]\n",
        "  return functools.reduce(lambda x, y: x * y, phi)"
      ],
      "metadata": {
        "id": "CJBwDsk-Al_z"
      },
      "execution_count": 9,
      "outputs": []
    },
    {
      "cell_type": "markdown",
      "source": [
        "**Ejemplo:**"
      ],
      "metadata": {
        "id": "p8jGyJ4zHi2z"
      }
    },
    {
      "cell_type": "code",
      "source": [
        "numero = 215042554\n",
        "t = timeit.timeit('euler({})'.format(numero), setup='from __main__ import euler', number=1)\n",
        "print(euler(numero))\n",
        "print('Tiempo de ejecución: {} segundos'.format(t))"
      ],
      "metadata": {
        "colab": {
          "base_uri": "https://localhost:8080/"
        },
        "id": "0hEKokXRHXN3",
        "outputId": "e3735f8c-dd16-4b3b-f4c0-93eb9b0ae3ec"
      },
      "execution_count": 13,
      "outputs": [
        {
          "output_type": "stream",
          "name": "stdout",
          "text": [
            "101094912\n",
            "Tiempo de ejecución: 0.0015025469999727648 segundos\n"
          ]
        }
      ]
    }
  ]
}