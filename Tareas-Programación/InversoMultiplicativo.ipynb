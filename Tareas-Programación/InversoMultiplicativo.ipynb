{
  "nbformat": 4,
  "nbformat_minor": 0,
  "metadata": {
    "colab": {
      "provenance": [],
      "authorship_tag": "ABX9TyPmT34NNRByAt9hEbrelrAm",
      "include_colab_link": true
    },
    "kernelspec": {
      "name": "python3",
      "display_name": "Python 3"
    },
    "language_info": {
      "name": "python"
    }
  },
  "cells": [
    {
      "cell_type": "markdown",
      "metadata": {
        "id": "view-in-github",
        "colab_type": "text"
      },
      "source": [
        "<a href=\"https://colab.research.google.com/github/melissafn/Matematicas-discretas-II/blob/main/Tareas-Programaci%C3%B3n/InversoMultiplicativo.ipynb\" target=\"_parent\"><img src=\"https://colab.research.google.com/assets/colab-badge.svg\" alt=\"Open In Colab\"/></a>"
      ]
    },
    {
      "cell_type": "markdown",
      "source": [
        "# Inverso multiplicativo en Zn\n",
        "El inverso de un entero n módulo p es un entero m tal que n^-1 ≡ m (mod p). El inverso de n módulo p existe si y sólo si n y p son coprimos, es decir, si MCD(n, p)=1. A continuación se implementa un algoritmo para calcular estos inversos."
      ],
      "metadata": {
        "id": "XnQ1oFHX42gp"
      }
    },
    {
      "cell_type": "code",
      "execution_count": 9,
      "metadata": {
        "id": "7FY2GiL94zbN"
      },
      "outputs": [],
      "source": [
        "x, y = 0, 1\n",
        "def EuclidesExtendido(a, b):\n",
        "\tglobal x, y\n",
        "\tif (a == 0):\n",
        "\t\tx = 0\n",
        "\t\ty = 1\n",
        "\t\treturn b\n",
        "\n",
        "\tmcd = EuclidesExtendido(b % a, a)\n",
        "\tx1 = x\n",
        "\ty1 = y\n",
        "\n",
        "\tx = y1 - (b // a) * x1\n",
        "\ty = x1\n",
        "\n",
        "\treturn mcd\n",
        "\n",
        "def InversoModular(A, M):\n",
        "\tg = EuclidesExtendido(A, M)\n",
        "\tif (g != 1):\n",
        "\t\tprint(\"No existe inverso\")\n",
        "\n",
        "\telse:\n",
        "\t\tres = (x % M + M) % M\n",
        "\t\tprint(\"Inverso multiplicativo:\", res)"
      ]
    },
    {
      "cell_type": "markdown",
      "source": [
        "**Ejemplo:**"
      ],
      "metadata": {
        "id": "rI9AtK8dzfrg"
      }
    },
    {
      "cell_type": "code",
      "source": [
        "InversoModular(7, 15)"
      ],
      "metadata": {
        "colab": {
          "base_uri": "https://localhost:8080/"
        },
        "id": "-ou7fDWazmW5",
        "outputId": "4afb5a44-2be5-4282-96c3-817853db01d5"
      },
      "execution_count": 12,
      "outputs": [
        {
          "output_type": "stream",
          "name": "stdout",
          "text": [
            "Inverso multiplicativo: 13\n"
          ]
        }
      ]
    }
  ]
}