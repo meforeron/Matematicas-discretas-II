{
  "nbformat": 4,
  "nbformat_minor": 0,
  "metadata": {
    "colab": {
      "provenance": [],
      "authorship_tag": "ABX9TyOYnanRzar5NQfVRVapkFI2",
      "include_colab_link": true
    },
    "kernelspec": {
      "name": "python3",
      "display_name": "Python 3"
    },
    "language_info": {
      "name": "python"
    }
  },
  "cells": [
    {
      "cell_type": "markdown",
      "metadata": {
        "id": "view-in-github",
        "colab_type": "text"
      },
      "source": [
        "<a href=\"https://colab.research.google.com/github/melissafn/Matematicas-discretas-II/blob/main/Tareas-Programaci%C3%B3n/AlgoritmoEuclides.ipynb\" target=\"_parent\"><img src=\"https://colab.research.google.com/assets/colab-badge.svg\" alt=\"Open In Colab\"/></a>"
      ]
    },
    {
      "cell_type": "markdown",
      "source": [
        "# Algoritmo de Euclides\n",
        "El Algoritmo de Euclides es un método o procedimiento que permite sistematizar la búsqueda del Máximo Común Divisor de dos números. También se le llama “método de las divisiones sucesivas”."
      ],
      "metadata": {
        "id": "jNEKmoN1jWsh"
      }
    },
    {
      "cell_type": "code",
      "source": [
        "def mcd(a, b):\n",
        "  \"\"\"\n",
        "  Calcula el máximo común divisor de dos números.\n",
        "\n",
        "  Entrada:\n",
        "  a: número 1\n",
        "  b: número 2\n",
        "\n",
        "  Salida:\n",
        "  Devuelve el mayor número entero que divide a los números a y b sin dejar residuo alguno.\n",
        "\n",
        "  \"\"\"\n",
        "  if a < b:\n",
        "    a, b = b,a\n",
        "  while b != 0:\n",
        "    resto = a % b\n",
        "    a = b\n",
        "    b = resto\n",
        "  return a"
      ],
      "metadata": {
        "id": "Y6t00wxajcI0"
      },
      "execution_count": 6,
      "outputs": []
    },
    {
      "cell_type": "code",
      "source": [
        "mcd(1172,914)"
      ],
      "metadata": {
        "colab": {
          "base_uri": "https://localhost:8080/"
        },
        "id": "-jAI2QEZmDxi",
        "outputId": "24e6865f-42cd-4722-90bc-2cfc940328dc"
      },
      "execution_count": 7,
      "outputs": [
        {
          "output_type": "execute_result",
          "data": {
            "text/plain": [
              "2"
            ]
          },
          "metadata": {},
          "execution_count": 7
        }
      ]
    }
  ]
}